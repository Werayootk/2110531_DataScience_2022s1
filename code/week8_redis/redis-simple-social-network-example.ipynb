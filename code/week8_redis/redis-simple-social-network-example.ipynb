{
 "cells": [
  {
   "cell_type": "markdown",
   "metadata": {},
   "source": [
    "# Redis - Simple Social Network Datastore Example\n",
    "\n",
    "This source code contains example of redis command based on the datastructure of simple social network."
   ]
  },
  {
   "cell_type": "code",
   "execution_count": 1,
   "metadata": {},
   "outputs": [],
   "source": [
    "import redis, csv"
   ]
  },
  {
   "cell_type": "code",
   "execution_count": 2,
   "metadata": {},
   "outputs": [],
   "source": [
    "# connect to the local redis server\n",
    "\n",
    "rd = redis.Redis()"
   ]
  },
  {
   "cell_type": "code",
   "execution_count": 3,
   "metadata": {},
   "outputs": [
    {
     "data": {
      "text/plain": [
       "True"
      ]
     },
     "execution_count": 3,
     "metadata": {},
     "output_type": "execute_result"
    }
   ],
   "source": [
    "# remove all data so that it is clear if we rerun this notebook\n",
    "\n",
    "rd.flushall()"
   ]
  },
  {
   "cell_type": "markdown",
   "metadata": {},
   "source": [
    "## Import data\n",
    "Read data from csv files and store all data (user information and relationship) in the redis"
   ]
  },
  {
   "cell_type": "code",
   "execution_count": 4,
   "metadata": {},
   "outputs": [],
   "source": [
    "with open('users.csv', encoding='utf-8') as f:\n",
    "    reader = csv.reader(f)\n",
    "    header = next(reader)\n",
    "    for row in reader:\n",
    "        id = row[0]\n",
    "        name = row[1]\n",
    "        k = 'user:{}:name'.format(id)\n",
    "        rd.set(k, name)\n",
    "        k = 'username:{}'.format(name)\n",
    "        rd.set(k, id)"
   ]
  },
  {
   "cell_type": "code",
   "execution_count": 5,
   "metadata": {},
   "outputs": [],
   "source": [
    "with open('follows.csv', encoding='utf-8') as f:\n",
    "    reader = csv.reader(f)\n",
    "    header = next(reader)\n",
    "    for row in reader:\n",
    "        id = row[0]\n",
    "        follow = row[1]\n",
    "        k = 'user:{}:follows'.format(id)\n",
    "        rd.sadd(k, follow)\n",
    "        k = 'user:{}:followed_by'.format(follow)\n",
    "        rd.sadd(k, id)"
   ]
  },
  {
   "cell_type": "markdown",
   "metadata": {},
   "source": [
    "## Data Retrieval\n",
    "To retrieve data from redis, we will have to know the data structure being used for that particular key and use command accordingly.  In this case, user information is stored as \"String\" type and following information is stored as \"Set\""
   ]
  },
  {
   "cell_type": "code",
   "execution_count": 6,
   "metadata": {},
   "outputs": [
    {
     "data": {
      "text/plain": [
       "'crushedGnu1'"
      ]
     },
     "execution_count": 6,
     "metadata": {},
     "output_type": "execute_result"
    }
   ],
   "source": [
    "id = 141\n",
    "name = rd.get('user:{}:name'.format(id)).decode('utf-8')\n",
    "name"
   ]
  },
  {
   "cell_type": "code",
   "execution_count": 7,
   "metadata": {},
   "outputs": [
    {
     "data": {
      "text/plain": [
       "'crushedGnu1'"
      ]
     },
     "execution_count": 7,
     "metadata": {},
     "output_type": "execute_result"
    }
   ],
   "source": [
    "rd.get('user:141:name').decode('utf-8')"
   ]
  },
  {
   "cell_type": "code",
   "execution_count": 8,
   "metadata": {},
   "outputs": [
    {
     "data": {
      "text/plain": [
       "'141'"
      ]
     },
     "execution_count": 8,
     "metadata": {},
     "output_type": "execute_result"
    }
   ],
   "source": [
    "rd.get('username:{}'.format(name)).decode('utf-8')"
   ]
  },
  {
   "cell_type": "code",
   "execution_count": 9,
   "metadata": {},
   "outputs": [
    {
     "data": {
      "text/plain": [
       "{b'106', b'108', b'119', b'138', b'143', b'162', b'164', b'180'}"
      ]
     },
     "execution_count": 9,
     "metadata": {},
     "output_type": "execute_result"
    }
   ],
   "source": [
    "rd.smembers('user:{}:follows'.format(id))"
   ]
  },
  {
   "cell_type": "code",
   "execution_count": 10,
   "metadata": {},
   "outputs": [
    {
     "data": {
      "text/plain": [
       "{b'106', b'152', b'187'}"
      ]
     },
     "execution_count": 10,
     "metadata": {},
     "output_type": "execute_result"
    }
   ],
   "source": [
    "rd.smembers('user:{}:followed_by'.format(id))"
   ]
  },
  {
   "cell_type": "markdown",
   "metadata": {},
   "source": [
    "## Key scan\n",
    "We can scan all keys in the database using \"scan\" command.  We call scan with cursor (initial at 0) to indicate the place to start scanning.  We also indicate the matching pattern to focus our scan to specific key pattern.  Each call returns a tuple of (next_cursor, results).  We can use next_cursor to continue our scanning process."
   ]
  },
  {
   "cell_type": "code",
   "execution_count": 16,
   "metadata": {},
   "outputs": [
    {
     "name": "stdout",
     "output_type": "stream",
     "text": [
      "username:abjectSalt5 145\n",
      "username:peskyPiglet5 190\n",
      "username:mercifulPlover5 156\n",
      "username:debonairBobolink7 125\n",
      "username:trustingIguana7 135\n",
      "username:solidOil8 172\n",
      "username:cautiousTuna9 195\n",
      "username:bubblyWigeon3 183\n",
      "username:wakefulTomatoe3 169\n",
      "username:solemnOryx8 152\n",
      "username:lyingThrushe1 111\n",
      "username:pitifulSalami5 134\n",
      "username:adoringGatorade6 200\n",
      "username:needfulRuffs7 131\n",
      "username:madTeal5 163\n",
      "username:solemnRelish2 174\n",
      "username:outlyingMeerkat2 170\n",
      "username:guiltyMeerkat7 138\n",
      "username:grumpyGatorade9 144\n",
      "username:betrayedEagle8 194\n",
      "username:cruelStork3 123\n",
      "username:aboardMuesli8 154\n",
      "username:pitifulShads3 116\n",
      "username:jumpySheep0 113\n",
      "username:thrilledPonie5 129\n",
      "username:ferventCur8 142\n",
      "username:artisticWildfowl3 155\n",
      "username:similarCow8 139\n",
      "username:dejectedOil5 157\n",
      "username:similarWasp4 159\n",
      "username:enragedDoves7 176\n",
      "username:contentMandrill3 173\n",
      "username:bubblyZebra1 114\n",
      "username:dreadfulAbalone4 110\n",
      "username:ecstaticTacos2 188\n",
      "username:solemnBoars0 179\n",
      "username:wrathfulEland6 191\n",
      "username:wornoutApricots4 151\n",
      "username:amazedFlamingo4 199\n",
      "username:importedCoati3 133\n",
      "username:worriedLemur0 175\n",
      "username:offendedGarlic0 153\n",
      "username:giddyBass5 102\n",
      "username:mercifulGelding9 101\n",
      "username:excitedOtter6 165\n",
      "username:wearyWasp9 171\n",
      "username:sincereBurritos3 164\n",
      "username:mereWeaver3 160\n",
      "username:lyingPoultry2 121\n",
      "username:pridefulCur9 166\n",
      "username:drearySardines1 147\n",
      "username:ecstaticMallard3 168\n",
      "username:shySnipe9 130\n",
      "username:emptyCur4 118\n",
      "username:excludedRuffs6 184\n",
      "username:outlyingBustard9 115\n",
      "username:abjectKitten2 187\n",
      "username:outlyingEagle4 137\n",
      "username:bubblyCow3 126\n",
      "username:madToucan7 178\n",
      "username:abjectCheese4 148\n",
      "username:giddyStork2 182\n",
      "username:debonairBagels9 150\n",
      "username:ecstaticMandrill3 128\n",
      "username:goofyPoultry0 107\n",
      "username:dreadfulBuzzard0 108\n",
      "username:soreTermite2 192\n",
      "username:culturedLollies0 196\n",
      "username:peskyCaviar0 109\n",
      "username:blissfulGnu0 105\n",
      "username:ardentEland9 162\n",
      "username:morbidMeerkat2 167\n",
      "username:brainyBoars3 112\n",
      "username:mercifulZebra0 140\n",
      "username:wearyBasmati1 180\n",
      "username:mercifulHoopoe6 177\n",
      "username:aloofStork7 136\n",
      "username:hushedPretzels3 158\n",
      "username:holisticMagpie8 198\n",
      "username:enviousOatmeal1 185\n",
      "username:grudgingRuffs6 103\n",
      "username:aloofChamois1 104\n",
      "username:forsakenSalami4 161\n",
      "username:pridefulSalami5 189\n",
      "username:fondGatorade0 106\n",
      "username:grizzledApples0 122\n",
      "username:wrathfulRhino7 124\n",
      "username:abjectBuck4 146\n",
      "username:panickyDingo1 149\n",
      "username:peskyMoth8 127\n",
      "username:crushedGnu1 141\n",
      "username:dreadfulToucan1 120\n",
      "username:innocentDinosaur9 197\n",
      "username:culturedMoth0 193\n",
      "username:wakefulDotterel4 132\n",
      "username:euphoricTortoise4 143\n",
      "username:superiorPolenta7 181\n",
      "username:mellowCordial5 186\n",
      "username:crummyTomatoe5 117\n",
      "username:amazedWasp5 119\n"
     ]
    }
   ],
   "source": [
    "cursor = 0\n",
    "cursor, keys = rd.scan(cursor=cursor, match='username:*')\n",
    "while cursor > 0:\n",
    "    for x in keys:\n",
    "        key = x.decode('utf-8')\n",
    "        value = rd.get(key).decode('utf-8')\n",
    "        print(key, value)\n",
    "        \n",
    "    cursor, keys = rd.scan(cursor=cursor, match='username:*')  "
   ]
  },
  {
   "cell_type": "code",
   "execution_count": 14,
   "metadata": {},
   "outputs": [
    {
     "data": {
      "text/plain": [
       "(96,\n",
       " [b'username:abjectSalt5',\n",
       "  b'user:129:name',\n",
       "  b'user:120:followed_by',\n",
       "  b'user:101:follows',\n",
       "  b'user:187:followed_by',\n",
       "  b'user:122:name',\n",
       "  b'user:153:follows',\n",
       "  b'username:peskyPiglet5',\n",
       "  b'user:117:name',\n",
       "  b'user:176:followed_by'])"
      ]
     },
     "execution_count": 14,
     "metadata": {},
     "output_type": "execute_result"
    }
   ],
   "source": [
    "rd.scan(0)"
   ]
  },
  {
   "cell_type": "code",
   "execution_count": 15,
   "metadata": {},
   "outputs": [
    {
     "data": {
      "text/plain": [
       "(304,\n",
       " [b'user:142:name',\n",
       "  b'username:mercifulPlover5',\n",
       "  b'user:184:followed_by',\n",
       "  b'user:127:followed_by',\n",
       "  b'user:145:name',\n",
       "  b'user:184:follows',\n",
       "  b'user:166:name',\n",
       "  b'username:debonairBobolink7',\n",
       "  b'user:163:name',\n",
       "  b'username:trustingIguana7',\n",
       "  b'user:141:follows',\n",
       "  b'user:164:followed_by'])"
      ]
     },
     "execution_count": 15,
     "metadata": {},
     "output_type": "execute_result"
    }
   ],
   "source": [
    "rd.scan(96)"
   ]
  },
  {
   "cell_type": "code",
   "execution_count": null,
   "metadata": {},
   "outputs": [],
   "source": []
  }
 ],
 "metadata": {
  "kernelspec": {
   "display_name": "Python 3",
   "language": "python",
   "name": "python3"
  },
  "language_info": {
   "codemirror_mode": {
    "name": "ipython",
    "version": 3
   },
   "file_extension": ".py",
   "mimetype": "text/x-python",
   "name": "python",
   "nbconvert_exporter": "python",
   "pygments_lexer": "ipython3",
   "version": "3.7.6"
  },
  "toc": {
   "base_numbering": 1,
   "nav_menu": {},
   "number_sections": true,
   "sideBar": true,
   "skip_h1_title": false,
   "title_cell": "Table of Contents",
   "title_sidebar": "Contents",
   "toc_cell": false,
   "toc_position": {},
   "toc_section_display": true,
   "toc_window_display": false
  },
  "varInspector": {
   "cols": {
    "lenName": 16,
    "lenType": 16,
    "lenVar": 40
   },
   "kernels_config": {
    "python": {
     "delete_cmd_postfix": "",
     "delete_cmd_prefix": "del ",
     "library": "var_list.py",
     "varRefreshCmd": "print(var_dic_list())"
    },
    "r": {
     "delete_cmd_postfix": ") ",
     "delete_cmd_prefix": "rm(",
     "library": "var_list.r",
     "varRefreshCmd": "cat(var_dic_list()) "
    }
   },
   "types_to_exclude": [
    "module",
    "function",
    "builtin_function_or_method",
    "instance",
    "_Feature"
   ],
   "window_display": false
  }
 },
 "nbformat": 4,
 "nbformat_minor": 4
}
